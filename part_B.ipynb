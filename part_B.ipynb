{
 "cells": [
  {
   "cell_type": "markdown",
   "metadata": {},
   "source": [
    "# TECH 2 mandatory assignment - Part B\n",
    "Solution"
   ]
  },
  {
   "cell_type": "markdown",
   "metadata": {},
   "source": [
    "First, the necessary packages will be imported."
   ]
  },
  {
   "cell_type": "code",
   "execution_count": 12,
   "metadata": {},
   "outputs": [],
   "source": [
    "import numpy as np\n",
    "from part_A import std_builtin, std_loops\n",
    "import timeit\n",
    "import pandas as pd\n",
    "import csv"
   ]
  },
  {
   "cell_type": "markdown",
   "metadata": {},
   "source": [
    "Next, data will be read from the `data.csv` file. Three lists will be created: `large`, `medium`, and `small`, with data from the respective columns stored in these lists. The `large` list will contain 10,000 entries, the `medium` list 1,000 entries, and the `small` list 100 entries."
   ]
  },
  {
   "cell_type": "code",
   "execution_count": 50,
   "metadata": {},
   "outputs": [],
   "source": [
    "large_list, medium_list, small_list = [], [], []\n",
    "\n",
    "# load data from csv file to lists\n",
    "with open(\"data.csv\", mode=\"r\") as file:\n",
    "    csv_reader = csv.reader(file)\n",
    "    rows = [row for row in csv_reader if row]  # skip empty rows\n",
    "    for row in rows:\n",
    "        for value, lst in zip(row[:3], [small_list, medium_list, large_list]):\n",
    "            value = value.strip()\n",
    "            if value:\n",
    "                lst.append(float(value))"
   ]
  },
  {
   "cell_type": "markdown",
   "metadata": {},
   "source": [
    "The next step is to confirm that the file was read successfully by examining the data's length and its first elements."
   ]
  },
  {
   "cell_type": "code",
   "execution_count": 52,
   "metadata": {},
   "outputs": [],
   "source": [
    "assert (\n",
    "    len(large_list) == 10000\n",
    "), \"Large list does not contain 10 000 elements but {}\".format(len(large_list))\n",
    "assert (\n",
    "    len(medium_list) == 1000\n",
    "), \"Medium list does not contain 1 000 elements but {}\".format(len(medium_list))\n",
    "assert (\n",
    "    len(small_list) == 100\n",
    "), \"Small list does not containa 100 elements but {}\".format(len(small_list))"
   ]
  },
  {
   "cell_type": "code",
   "execution_count": 53,
   "metadata": {},
   "outputs": [],
   "source": [
    "for lst in [small_list, medium_list, large_list]:\n",
    "    assert [round(val, 2) for val in lst[:3]] == [0.68, 0.05, 0.22]"
   ]
  },
  {
   "cell_type": "markdown",
   "metadata": {},
   "source": [
    "Next, the standard deviation will be calculated using NumPy, built-in functions, and loops on the previously created lists. The results will be stored in a dictionary (matrix-like format), where the size of the data lists corresponds to the rows, and the different functions correspond to the columns."
   ]
  },
  {
   "cell_type": "code",
   "execution_count": 16,
   "metadata": {},
   "outputs": [],
   "source": [
    "# set up for matrix\n",
    "functions = [np.std, std_builtin, std_loops]\n",
    "function_names = [\"Numpy std\", \"Builtin std\", \"Loops std\"]\n",
    "data_samples = {\"small\": small_list, \"medium\": medium_list, \"large\": large_list}\n",
    "\n",
    "# matrix\n",
    "std_result_matrix = {\n",
    "    size: [func(data) for func in functions] for size, data in data_samples.items()\n",
    "}"
   ]
  },
  {
   "cell_type": "markdown",
   "metadata": {},
   "source": [
    "The computed standard deviations for each list size and each function will then be displayed."
   ]
  },
  {
   "cell_type": "code",
   "execution_count": 64,
   "metadata": {},
   "outputs": [
    {
     "name": "stdout",
     "output_type": "stream",
     "text": [
      "                small    medium     large\n",
      "Numpy std    0.282372  0.284674  0.285405\n",
      "Builtin std  0.282372  0.284674  0.285405\n",
      "Loops std    0.282372  0.284674  0.285405\n"
     ]
    }
   ],
   "source": [
    "df = pd.DataFrame(std_result_matrix, index=function_names)\n",
    "print(df)"
   ]
  },
  {
   "cell_type": "markdown",
   "metadata": {},
   "source": [
    "A similar approach will be used to calculate the running times for each element in the matrix above. The results will also be stored in a dictionary. The number of executions is deliberately chosen, as timeit returns the total execution time for multiple iterations, not a single one. To obtain the time for a single iteration, the output is divided by the number of iterations."
   ]
  },
  {
   "cell_type": "code",
   "execution_count": 43,
   "metadata": {},
   "outputs": [],
   "source": [
    "numb = 1000  # deliberately choses number of execution.\n",
    "time_result_matrix = {\n",
    "    size: [timeit.timeit(lambda: func(data), number=numb) / numb for func in functions]\n",
    "    for size, data in data_samples.items()\n",
    "}"
   ]
  },
  {
   "cell_type": "markdown",
   "metadata": {},
   "source": [
    "While exploring ways to present the data effectively, pandas tables were discovered. Let's give them a try."
   ]
  },
  {
   "cell_type": "code",
   "execution_count": 44,
   "metadata": {},
   "outputs": [
    {
     "data": {
      "text/html": [
       "<style type=\"text/css\">\n",
       "#T_f6588_row0_col0, #T_f6588_row2_col1, #T_f6588_row2_col2 {\n",
       "  background-color: #800026;\n",
       "  color: #f1f1f1;\n",
       "}\n",
       "#T_f6588_row0_col1, #T_f6588_row0_col2, #T_f6588_row1_col0 {\n",
       "  background-color: #ffffcc;\n",
       "  color: #000000;\n",
       "}\n",
       "#T_f6588_row1_col1 {\n",
       "  background-color: #fead4a;\n",
       "  color: #000000;\n",
       "}\n",
       "#T_f6588_row1_col2 {\n",
       "  background-color: #ed3022;\n",
       "  color: #f1f1f1;\n",
       "}\n",
       "#T_f6588_row2_col0 {\n",
       "  background-color: #fd9941;\n",
       "  color: #000000;\n",
       "}\n",
       "</style>\n",
       "<table id=\"T_f6588\">\n",
       "  <thead>\n",
       "    <tr>\n",
       "      <th class=\"blank level0\" >&nbsp;</th>\n",
       "      <th id=\"T_f6588_level0_col0\" class=\"col_heading level0 col0\" >SMALL</th>\n",
       "      <th id=\"T_f6588_level0_col1\" class=\"col_heading level0 col1\" >MEDIUM</th>\n",
       "      <th id=\"T_f6588_level0_col2\" class=\"col_heading level0 col2\" >LARGE</th>\n",
       "    </tr>\n",
       "  </thead>\n",
       "  <tbody>\n",
       "    <tr>\n",
       "      <th id=\"T_f6588_level0_row0\" class=\"row_heading level0 row0\" >Numpy std</th>\n",
       "      <td id=\"T_f6588_row0_col0\" class=\"data row0 col0\" >0.0001439</td>\n",
       "      <td id=\"T_f6588_row0_col1\" class=\"data row0 col1\" >0.0001637</td>\n",
       "      <td id=\"T_f6588_row0_col2\" class=\"data row0 col2\" >0.0009916</td>\n",
       "    </tr>\n",
       "    <tr>\n",
       "      <th id=\"T_f6588_level0_row1\" class=\"row_heading level0 row1\" >Builtin std</th>\n",
       "      <td id=\"T_f6588_row1_col0\" class=\"data row1 col0\" >0.0000759</td>\n",
       "      <td id=\"T_f6588_row1_col1\" class=\"data row1 col1\" >0.0006716</td>\n",
       "      <td id=\"T_f6588_row1_col2\" class=\"data row1 col2\" >0.0075335</td>\n",
       "    </tr>\n",
       "    <tr>\n",
       "      <th id=\"T_f6588_level0_row2\" class=\"row_heading level0 row2\" >Loops std</th>\n",
       "      <td id=\"T_f6588_row2_col0\" class=\"data row2 col0\" >0.0001071</td>\n",
       "      <td id=\"T_f6588_row2_col1\" class=\"data row2 col1\" >0.0014531</td>\n",
       "      <td id=\"T_f6588_row2_col2\" class=\"data row2 col2\" >0.0103717</td>\n",
       "    </tr>\n",
       "  </tbody>\n",
       "</table>\n"
      ],
      "text/plain": [
       "<pandas.io.formats.style.Styler at 0x11f2f6ff0>"
      ]
     },
     "execution_count": 44,
     "metadata": {},
     "output_type": "execute_result"
    }
   ],
   "source": [
    "import pandas as pd\n",
    "\n",
    "df = pd.DataFrame(time_result_matrix, index=function_names)\n",
    "\n",
    "\n",
    "df.style.format(precision=7, thousands=\",\", decimal=\".\").format_index(\n",
    "    str.upper, axis=1\n",
    ").relabel_index(function_names, axis=0).background_gradient(\n",
    "    subset=pd.IndexSlice[:, :], cmap=\"YlOrRd\"\n",
    ")  # where yellow best, orange ok, red worse"
   ]
  },
  {
   "cell_type": "markdown",
   "metadata": {},
   "source": [
    "The table above clearly shows which functions perform best for each list size. For smaller lists, built-in functions offer the best performance, followed by loops, with NumPy functions being the slowest. However, for larger lists, NumPy functions outperform both built-in functions and loops."
   ]
  },
  {
   "cell_type": "markdown",
   "metadata": {},
   "source": [
    "Runtimes are measured using %timeit, where the number of iterations is chosen automatically."
   ]
  },
  {
   "cell_type": "code",
   "execution_count": 32,
   "metadata": {},
   "outputs": [
    {
     "name": "stdout",
     "output_type": "stream",
     "text": [
      "1.46 ms ± 399 μs per loop (mean ± std. dev. of 7 runs, 1,000 loops each)\n",
      "21.7 ms ± 4.2 ms per loop (mean ± std. dev. of 7 runs, 100 loops each)\n",
      "CPU times: user 5.18 ms, sys: 179 μs, total: 5.36 ms\n",
      "Wall time: 6.16 ms\n"
     ]
    },
    {
     "data": {
      "text/plain": [
       "0.28540452694761564"
      ]
     },
     "execution_count": 32,
     "metadata": {},
     "output_type": "execute_result"
    }
   ],
   "source": [
    "%timeit np.std(large_list)\n",
    "%timeit std_loops(large_list)\n",
    "%time std_builtin(large_list)"
   ]
  },
  {
   "cell_type": "code",
   "execution_count": 45,
   "metadata": {},
   "outputs": [
    {
     "name": "stdout",
     "output_type": "stream",
     "text": [
      "314 μs ± 150 μs per loop (mean ± std. dev. of 7 runs, 1,000 loops each)\n",
      "1.85 ms ± 1.09 ms per loop (mean ± std. dev. of 7 runs, 1,000 loops each)\n",
      "CPU times: user 448 μs, sys: 1e+03 ns, total: 449 μs\n",
      "Wall time: 453 μs\n"
     ]
    },
    {
     "data": {
      "text/plain": [
       "0.2846744328385061"
      ]
     },
     "execution_count": 45,
     "metadata": {},
     "output_type": "execute_result"
    }
   ],
   "source": [
    "%timeit np.std(medium_list)\n",
    "%timeit std_loops(medium_list)\n",
    "%time std_builtin(medium_list)"
   ]
  },
  {
   "cell_type": "code",
   "execution_count": 46,
   "metadata": {},
   "outputs": [
    {
     "name": "stdout",
     "output_type": "stream",
     "text": [
      "86.3 μs ± 24.5 μs per loop (mean ± std. dev. of 7 runs, 10,000 loops each)\n",
      "170 μs ± 30 μs per loop (mean ± std. dev. of 7 runs, 10,000 loops each)\n",
      "CPU times: user 186 μs, sys: 5 μs, total: 191 μs\n",
      "Wall time: 213 μs\n"
     ]
    },
    {
     "data": {
      "text/plain": [
       "0.2823721097353601"
      ]
     },
     "execution_count": 46,
     "metadata": {},
     "output_type": "execute_result"
    }
   ],
   "source": [
    "%timeit np.std(small_list)\n",
    "%timeit std_loops(small_list)\n",
    "%time std_builtin(small_list)"
   ]
  }
 ],
 "metadata": {
  "kernelspec": {
   "display_name": "base",
   "language": "python",
   "name": "python3"
  },
  "language_info": {
   "codemirror_mode": {
    "name": "ipython",
    "version": 3
   },
   "file_extension": ".py",
   "mimetype": "text/x-python",
   "name": "python",
   "nbconvert_exporter": "python",
   "pygments_lexer": "ipython3",
   "version": "3.12.5"
  }
 },
 "nbformat": 4,
 "nbformat_minor": 2
}
