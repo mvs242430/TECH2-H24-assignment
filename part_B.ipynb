{
 "cells": [
  {
   "cell_type": "markdown",
   "metadata": {},
   "source": [
    "# TECH 2 mandatory assignment - Part B\n",
    "Solution"
   ]
  },
  {
   "cell_type": "markdown",
   "metadata": {},
   "source": [
    "First, I need to import my functions, as well as numpy"
   ]
  },
  {
   "cell_type": "code",
   "execution_count": 355,
   "metadata": {},
   "outputs": [],
   "source": [
    "import numpy as np\n",
    "from part_A import std_builtin, std_loops\n",
    "import timeit\n"
   ]
  },
  {
   "cell_type": "markdown",
   "metadata": {},
   "source": [
    "Next, I need to read data from `data.csv` file. \n",
    "I start by creating 3 lists, `large`, `medium` and `small` and store respectively data in columns to the lists.\n",
    "Where large is a 10 thousand large list."
   ]
  },
  {
   "cell_type": "code",
   "execution_count": 356,
   "metadata": {},
   "outputs": [],
   "source": [
    "import csv\n",
    "large_list = []\n",
    "medium_list = []\n",
    "small_list = []\n",
    "\n",
    "# read csv file\n",
    "with open('data.csv', mode='r') as file:\n",
    "    csv_reader = csv.reader(file)\n",
    "    for row in csv_reader:\n",
    "        # append non empty values\n",
    "        if len(row) > 0 and row[0].strip(): \n",
    "            small_list.append(float(row[0].strip()))\n",
    "        if len(row) > 1 and row[1].strip(): \n",
    "            medium_list.append(float(row[1].strip()))\n",
    "        if len(row) > 2 and row[2].strip():  \n",
    "            large_list.append(float(row[2].strip()))"
   ]
  },
  {
   "cell_type": "code",
   "execution_count": 357,
   "metadata": {},
   "outputs": [],
   "source": [
    "assert len(large_list) == 10000 , 'Large list does not contain 10 000 elements'\n",
    "assert len(medium_list) == 1000 , 'Medium list does not contain 1 000 elements'\n",
    "assert len(small_list) == 100 , 'Small list does not containa 100 elements'"
   ]
  },
  {
   "cell_type": "markdown",
   "metadata": {},
   "source": [
    "Afterwards I would calculate standard deviation using numpy, builtin functions and loops on the lists I created above.\n",
    "I wouls store the results in a matrix, where functions would correspond to rows, and list sizes would be columns. \n",
    "So each element of my matrix  \n",
    "\n",
    " $a_{ij} = f_i(\\text{list}_j)$\n"
   ]
  },
  {
   "cell_type": "code",
   "execution_count": 358,
   "metadata": {},
   "outputs": [],
   "source": [
    "functions = [np.std, std_builtin, std_loops]\n",
    "function_names = ['Numpy std', 'Builtin std', 'Loops std' ]\n",
    "data_samples = {'small': small_list,\n",
    "        'medium': medium_list,\n",
    "        'large': large_list}\n",
    "\n",
    "std_result_matrix = {size: [func(data) for func in functions] for size, data in data_samples.items()}\n"
   ]
  },
  {
   "cell_type": "markdown",
   "metadata": {},
   "source": [
    "I will proceed in a like manner to calculate the running times of each element of my matrix above, \n",
    "and I would store the results in a matrix as well. \n",
    "Functions would be rows and list sizes would be columns \n",
    "and each element would be runtime of a function on a specific list  \n",
    "\n",
    "$t_{ij} = t_{fi}(\\text{list}_j)$\n"
   ]
  },
  {
   "cell_type": "code",
   "execution_count": 359,
   "metadata": {},
   "outputs": [],
   "source": [
    "def get_time_matrix(functions, data):\n",
    "    time_result_matrix = {\n",
    "    size: [timeit.timeit(lambda: func(data), number=100) for func in functions] for size, data in data_samples.items()\n",
    "    } \n",
    "    return time_result_matrix  "
   ]
  },
  {
   "cell_type": "code",
   "execution_count": 360,
   "metadata": {},
   "outputs": [],
   "source": [
    "time_result_matrix = {\n",
    "    size: [timeit.timeit(lambda: func(data), number=100) for func in functions] for size, data in data_samples.items()\n",
    "}"
   ]
  },
  {
   "cell_type": "markdown",
   "metadata": {},
   "source": [
    "I wish to see the result matrix, so I would create a function to display elements in the matrix in a table."
   ]
  },
  {
   "cell_type": "code",
   "execution_count": 361,
   "metadata": {},
   "outputs": [],
   "source": [
    "def print_matrix_pretty(matrix, header):\n",
    "    print(header)\n",
    "    print('-'* len(header))\n",
    "\n",
    "    for i, func_name in enumerate(function_names):\n",
    "        row = f'{func_name:<15}'\n",
    "        for size in data_samples.keys():\n",
    "            tij = round(matrix[size][i],7)\n",
    "            row += f'{tij:<15}'\n",
    "        print(row)    "
   ]
  },
  {
   "cell_type": "code",
   "execution_count": 362,
   "metadata": {},
   "outputs": [],
   "source": [
    "header = f\"{'FUNCTION':<15} {'SMALL':<15} {'MEDIUM':<15} {'LARGE':<15}\""
   ]
  },
  {
   "cell_type": "markdown",
   "metadata": {},
   "source": [
    "Here I would show standard deviation calculated in a table."
   ]
  },
  {
   "cell_type": "code",
   "execution_count": 363,
   "metadata": {},
   "outputs": [
    {
     "name": "stdout",
     "output_type": "stream",
     "text": [
      "FUNCTION        SMALL           MEDIUM          LARGE          \n",
      "---------------------------------------------------------------\n",
      "Numpy std      0.2823721      0.2846744      0.2854045      \n",
      "Builtin std    0.2823721      0.2846744      0.2854045      \n",
      "Loops std      0.2823721      0.2846744      0.2854045      \n"
     ]
    }
   ],
   "source": [
    "print_matrix_pretty(std_result_matrix, header=header)"
   ]
  },
  {
   "cell_type": "markdown",
   "metadata": {},
   "source": [
    "Showing running times of different functions on different data sized lists as a table.    \n",
    "In the table it is already possible to see which functions performs better on different sized lists.\n"
   ]
  },
  {
   "cell_type": "code",
   "execution_count": 364,
   "metadata": {},
   "outputs": [
    {
     "name": "stdout",
     "output_type": "stream",
     "text": [
      "FUNCTION        SMALL           MEDIUM          LARGE          \n",
      "---------------------------------------------------------------\n",
      "Numpy std      0.0041403      0.0578373      0.0697238      \n",
      "Builtin std    0.0043608      0.0531817      0.4206002      \n",
      "Loops std      0.006523       0.0485195      0.4787263      \n"
     ]
    }
   ],
   "source": [
    "print_matrix_pretty(time_result_matrix, header)"
   ]
  },
  {
   "cell_type": "markdown",
   "metadata": {},
   "source": [
    "In search for how to present data nicely I discovered pandas tables. Let's try and see."
   ]
  },
  {
   "cell_type": "code",
   "execution_count": 365,
   "metadata": {},
   "outputs": [
    {
     "data": {
      "text/html": [
       "<style type=\"text/css\">\n",
       "#T_6d73b_row0_col0, #T_6d73b_row0_col2, #T_6d73b_row2_col1 {\n",
       "  background-color: #ffffcc;\n",
       "  color: #000000;\n",
       "}\n",
       "#T_6d73b_row0_col1, #T_6d73b_row2_col0, #T_6d73b_row2_col2 {\n",
       "  background-color: #800026;\n",
       "  color: #f1f1f1;\n",
       "}\n",
       "#T_6d73b_row1_col0 {\n",
       "  background-color: #fff2ac;\n",
       "  color: #000000;\n",
       "}\n",
       "#T_6d73b_row1_col1 {\n",
       "  background-color: #fd8c3c;\n",
       "  color: #f1f1f1;\n",
       "}\n",
       "#T_6d73b_row1_col2 {\n",
       "  background-color: #c20325;\n",
       "  color: #f1f1f1;\n",
       "}\n",
       "</style>\n",
       "<table id=\"T_6d73b\">\n",
       "  <thead>\n",
       "    <tr>\n",
       "      <th class=\"blank level0\" >&nbsp;</th>\n",
       "      <th id=\"T_6d73b_level0_col0\" class=\"col_heading level0 col0\" >SMALL</th>\n",
       "      <th id=\"T_6d73b_level0_col1\" class=\"col_heading level0 col1\" >MEDIUM</th>\n",
       "      <th id=\"T_6d73b_level0_col2\" class=\"col_heading level0 col2\" >LARGE</th>\n",
       "    </tr>\n",
       "  </thead>\n",
       "  <tbody>\n",
       "    <tr>\n",
       "      <th id=\"T_6d73b_level0_row0\" class=\"row_heading level0 row0\" >Numpy std</th>\n",
       "      <td id=\"T_6d73b_row0_col0\" class=\"data row0 col0\" >0.0041403</td>\n",
       "      <td id=\"T_6d73b_row0_col1\" class=\"data row0 col1\" >0.0578373</td>\n",
       "      <td id=\"T_6d73b_row0_col2\" class=\"data row0 col2\" >0.0697238</td>\n",
       "    </tr>\n",
       "    <tr>\n",
       "      <th id=\"T_6d73b_level0_row1\" class=\"row_heading level0 row1\" >Builtin std</th>\n",
       "      <td id=\"T_6d73b_row1_col0\" class=\"data row1 col0\" >0.0043608</td>\n",
       "      <td id=\"T_6d73b_row1_col1\" class=\"data row1 col1\" >0.0531817</td>\n",
       "      <td id=\"T_6d73b_row1_col2\" class=\"data row1 col2\" >0.4206002</td>\n",
       "    </tr>\n",
       "    <tr>\n",
       "      <th id=\"T_6d73b_level0_row2\" class=\"row_heading level0 row2\" >Loops std</th>\n",
       "      <td id=\"T_6d73b_row2_col0\" class=\"data row2 col0\" >0.0065230</td>\n",
       "      <td id=\"T_6d73b_row2_col1\" class=\"data row2 col1\" >0.0485195</td>\n",
       "      <td id=\"T_6d73b_row2_col2\" class=\"data row2 col2\" >0.4787263</td>\n",
       "    </tr>\n",
       "  </tbody>\n",
       "</table>\n"
      ],
      "text/plain": [
       "<pandas.io.formats.style.Styler object at 0x11b641310>"
      ]
     },
     "execution_count": 365,
     "metadata": {},
     "output_type": "execute_result"
    }
   ],
   "source": [
    "import pandas as pd\n",
    "df = pd.DataFrame(time_result_matrix, index=function_names)\n",
    "\n",
    "df.style \\\n",
    "  .format(precision=7, thousands=\",\", decimal=\".\") \\\n",
    "  .format_index(str.upper, axis=1) \\\n",
    "  .relabel_index(function_names, axis=0) \\\n",
    ".background_gradient(subset=pd.IndexSlice[:, :], cmap='YlOrRd')"
   ]
  },
  {
   "cell_type": "markdown",
   "metadata": {},
   "source": [
    "\n",
    "From the table above is already visible which functions performs better for what size of lists.  \n"
   ]
  },
  {
   "cell_type": "markdown",
   "metadata": {},
   "source": [
    "Runtimes using `%timeit`. I get more precise results, yet somewhat difficult to read."
   ]
  },
  {
   "cell_type": "code",
   "execution_count": 351,
   "metadata": {},
   "outputs": [
    {
     "name": "stdout",
     "output_type": "stream",
     "text": [
      "757 μs ± 36.6 μs per loop (mean ± std. dev. of 7 runs, 1,000 loops each)\n",
      "172 μs ± 77.9 μs per loop (mean ± std. dev. of 7 runs, 10,000 loops each)\n",
      "50.5 μs ± 13.2 μs per loop (mean ± std. dev. of 7 runs, 10,000 loops each)\n"
     ]
    }
   ],
   "source": [
    "%timeit np.std(large_list)\n",
    "%timeit np.std(medium_list)\n",
    "%timeit np.std(small_list)"
   ]
  },
  {
   "cell_type": "code",
   "execution_count": 352,
   "metadata": {},
   "outputs": [
    {
     "name": "stdout",
     "output_type": "stream",
     "text": [
      "5.58 ms ± 896 μs per loop (mean ± std. dev. of 7 runs, 100 loops each)\n",
      "524 μs ± 89.2 μs per loop (mean ± std. dev. of 7 runs, 1,000 loops each)\n",
      "63.7 μs ± 19.4 μs per loop (mean ± std. dev. of 7 runs, 10,000 loops each)\n"
     ]
    }
   ],
   "source": [
    "%timeit std_loops(large_list)\n",
    "%timeit std_loops(medium_list)\n",
    "%timeit std_loops(small_list)"
   ]
  },
  {
   "cell_type": "code",
   "execution_count": 353,
   "metadata": {},
   "outputs": [
    {
     "name": "stdout",
     "output_type": "stream",
     "text": [
      "5.04 ms ± 1.1 ms per loop (mean ± std. dev. of 7 runs, 100 loops each)\n",
      "452 μs ± 77.8 μs per loop (mean ± std. dev. of 7 runs, 1,000 loops each)\n",
      "74.9 μs ± 24.8 μs per loop (mean ± std. dev. of 7 runs, 10,000 loops each)\n"
     ]
    }
   ],
   "source": [
    "%timeit std_builtin(large_list)\n",
    "%timeit std_builtin(medium_list)\n",
    "%timeit std_builtin(small_list)"
   ]
  }
 ],
 "metadata": {
  "kernelspec": {
   "display_name": "base",
   "language": "python",
   "name": "python3"
  },
  "language_info": {
   "codemirror_mode": {
    "name": "ipython",
    "version": 3
   },
   "file_extension": ".py",
   "mimetype": "text/x-python",
   "name": "python",
   "nbconvert_exporter": "python",
   "pygments_lexer": "ipython3",
   "version": "3.12.5"
  }
 },
 "nbformat": 4,
 "nbformat_minor": 2
}
