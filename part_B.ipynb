{
 "cells": [
  {
   "cell_type": "markdown",
   "metadata": {},
   "source": [
    "# TECH 2 mandatory assignment - Part B\n",
    "Solution"
   ]
  },
  {
   "cell_type": "markdown",
   "metadata": {},
   "source": [
    "First, I need to import my functions, as well as numpy"
   ]
  },
  {
   "cell_type": "code",
   "execution_count": 135,
   "metadata": {},
   "outputs": [],
   "source": [
    "import numpy as np\n",
    "from part_A import std_builtin, std_loops\n",
    "import timeit\n"
   ]
  },
  {
   "cell_type": "markdown",
   "metadata": {},
   "source": [
    "Next, I need to read data from `data.csv` file. \n",
    "I start by creating 3 lists, `large`, `medium` and `small` and store respectively data in columns to the lists.\n",
    "Where large is a 10 thousand large list."
   ]
  },
  {
   "cell_type": "code",
   "execution_count": 136,
   "metadata": {},
   "outputs": [],
   "source": [
    "import csv\n",
    "large_list = []\n",
    "medium_list = []\n",
    "small_list = []\n",
    "\n",
    "# read csv file\n",
    "with open('data.csv', mode='r') as file:\n",
    "    csv_reader = csv.reader(file)\n",
    "    for row in csv_reader:\n",
    "        # append non empty values\n",
    "        if len(row) > 0 and row[0].strip(): \n",
    "            small_list.append(float(row[0].strip()))\n",
    "        if len(row) > 1 and row[1].strip(): \n",
    "            medium_list.append(float(row[1].strip()))\n",
    "        if len(row) > 2 and row[2].strip():  \n",
    "            large_list.append(float(row[2].strip()))"
   ]
  },
  {
   "cell_type": "markdown",
   "metadata": {},
   "source": [
    "I am going to check if I read the file sucessfully. "
   ]
  },
  {
   "cell_type": "code",
   "execution_count": 137,
   "metadata": {},
   "outputs": [],
   "source": [
    "assert len(large_list) == 10000 , 'Large list does not contain 10 000 elements'\n",
    "assert len(medium_list) == 1000 , 'Medium list does not contain 1 000 elements'\n",
    "assert len(small_list) == 100 , 'Small list does not containa 100 elements'"
   ]
  },
  {
   "cell_type": "code",
   "execution_count": 138,
   "metadata": {},
   "outputs": [],
   "source": [
    "for lst in [small_list, medium_list, large_list]:\n",
    "    assert [round(val, 2) for val in lst[:3]] == [0.68, 0.05, 0.22]\n"
   ]
  },
  {
   "cell_type": "markdown",
   "metadata": {},
   "source": [
    "Afterwards I would calculate standard deviation using numpy, builtin functions and loops on the lists I created above.  \n",
    "I wouls store the results in a dictionary (matrix kind result),   \n",
    "where size of the data lists would correspond to rows, and different function would be columns. \n"
   ]
  },
  {
   "cell_type": "code",
   "execution_count": 139,
   "metadata": {},
   "outputs": [],
   "source": [
    "# set up for matrix\n",
    "functions = [np.std, std_builtin, std_loops]\n",
    "function_names = ['Numpy std', 'Builtin std', 'Loops std' ]\n",
    "data_samples = {'small': small_list,\n",
    "        'medium': medium_list,\n",
    "        'large': large_list}\n",
    "\n",
    "# matrix\n",
    "std_result_matrix = {size: [func(data) for func in functions] for size, data in data_samples.items()}\n"
   ]
  },
  {
   "cell_type": "markdown",
   "metadata": {},
   "source": [
    "I will proceed in a like manner to calculate the running times of each element of my matrix above, \n",
    "and I would store the results in a dictionary as well. \n",
    " \n"
   ]
  },
  {
   "cell_type": "code",
   "execution_count": 140,
   "metadata": {},
   "outputs": [],
   "source": [
    "time_result_matrix = {\n",
    "    size: [timeit.timeit(lambda: func(data), number=1000) for func in functions] for size, data in data_samples.items()\n",
    "}"
   ]
  },
  {
   "cell_type": "markdown",
   "metadata": {},
   "source": [
    "Here I would show standard deviation calculated in a table."
   ]
  },
  {
   "cell_type": "markdown",
   "metadata": {},
   "source": [
    "In search for how to present data nicely I discovered pandas tables. Let's try and see."
   ]
  },
  {
   "cell_type": "code",
   "execution_count": 141,
   "metadata": {},
   "outputs": [
    {
     "data": {
      "text/html": [
       "<style type=\"text/css\">\n",
       "#T_ff380_row0_col0, #T_ff380_row1_col1, #T_ff380_row2_col2 {\n",
       "  background-color: #800026;\n",
       "  color: #f1f1f1;\n",
       "}\n",
       "#T_ff380_row0_col1, #T_ff380_row0_col2, #T_ff380_row2_col0 {\n",
       "  background-color: #ffffcc;\n",
       "  color: #000000;\n",
       "}\n",
       "#T_ff380_row1_col0 {\n",
       "  background-color: #e61f1d;\n",
       "  color: #f1f1f1;\n",
       "}\n",
       "#T_ff380_row1_col2 {\n",
       "  background-color: #d6111f;\n",
       "  color: #f1f1f1;\n",
       "}\n",
       "#T_ff380_row2_col1 {\n",
       "  background-color: #b70026;\n",
       "  color: #f1f1f1;\n",
       "}\n",
       "</style>\n",
       "<table id=\"T_ff380\">\n",
       "  <thead>\n",
       "    <tr>\n",
       "      <th class=\"blank level0\" >&nbsp;</th>\n",
       "      <th id=\"T_ff380_level0_col0\" class=\"col_heading level0 col0\" >SMALL</th>\n",
       "      <th id=\"T_ff380_level0_col1\" class=\"col_heading level0 col1\" >MEDIUM</th>\n",
       "      <th id=\"T_ff380_level0_col2\" class=\"col_heading level0 col2\" >LARGE</th>\n",
       "    </tr>\n",
       "  </thead>\n",
       "  <tbody>\n",
       "    <tr>\n",
       "      <th id=\"T_ff380_level0_row0\" class=\"row_heading level0 row0\" >Numpy std</th>\n",
       "      <td id=\"T_ff380_row0_col0\" class=\"data row0 col0\" >0.2397051</td>\n",
       "      <td id=\"T_ff380_row0_col1\" class=\"data row0 col1\" >0.2147359</td>\n",
       "      <td id=\"T_ff380_row0_col2\" class=\"data row0 col2\" >1.0268374</td>\n",
       "    </tr>\n",
       "    <tr>\n",
       "      <th id=\"T_ff380_level0_row1\" class=\"row_heading level0 row1\" >Builtin std</th>\n",
       "      <td id=\"T_ff380_row1_col0\" class=\"data row1 col0\" >0.2037386</td>\n",
       "      <td id=\"T_ff380_row1_col1\" class=\"data row1 col1\" >1.0921607</td>\n",
       "      <td id=\"T_ff380_row1_col2\" class=\"data row1 col2\" >7.4740009</td>\n",
       "    </tr>\n",
       "    <tr>\n",
       "      <th id=\"T_ff380_level0_row2\" class=\"row_heading level0 row2\" >Loops std</th>\n",
       "      <td id=\"T_ff380_row2_col0\" class=\"data row2 col0\" >0.1033203</td>\n",
       "      <td id=\"T_ff380_row2_col1\" class=\"data row2 col1\" >0.9909796</td>\n",
       "      <td id=\"T_ff380_row2_col2\" class=\"data row2 col2\" >9.1736300</td>\n",
       "    </tr>\n",
       "  </tbody>\n",
       "</table>\n"
      ],
      "text/plain": [
       "<pandas.io.formats.style.Styler at 0x11efcbcb0>"
      ]
     },
     "execution_count": 141,
     "metadata": {},
     "output_type": "execute_result"
    }
   ],
   "source": [
    "import pandas as pd\n",
    "df = pd.DataFrame(time_result_matrix, index=function_names)\n",
    "\n",
    "\n",
    "df.style \\\n",
    "  .format(precision=7, thousands=\",\", decimal=\".\") \\\n",
    "  .format_index(str.upper, axis=1) \\\n",
    "  .relabel_index(function_names, axis=0) \\\n",
    ".background_gradient(subset=pd.IndexSlice[:, :], cmap='YlOrRd') # yellow best as is the smallest, orange, and red worse\n"
   ]
  },
  {
   "cell_type": "markdown",
   "metadata": {},
   "source": [
    "\n",
    "From the table above is already visible which functions performs better for what size of lists.  \n"
   ]
  },
  {
   "cell_type": "markdown",
   "metadata": {},
   "source": [
    "Runtimes using `%timeit`. I get more precise results, yet somewhat difficult to read."
   ]
  },
  {
   "cell_type": "code",
   "execution_count": 142,
   "metadata": {},
   "outputs": [
    {
     "name": "stdout",
     "output_type": "stream",
     "text": [
      "The slowest run took 4.13 times longer than the fastest. This could mean that an intermediate result is being cached.\n",
      "1.39 ms ± 924 μs per loop (mean ± std. dev. of 7 runs, 1,000 loops each)\n",
      "200 μs ± 105 μs per loop (mean ± std. dev. of 7 runs, 10,000 loops each)\n",
      "The slowest run took 4.90 times longer than the fastest. This could mean that an intermediate result is being cached.\n",
      "104 μs ± 65.7 μs per loop (mean ± std. dev. of 7 runs, 10,000 loops each)\n"
     ]
    }
   ],
   "source": [
    "# Time execution using numpy\n",
    "\n",
    "%timeit np.std(large_list)\n",
    "%timeit np.std(medium_list)\n",
    "%timeit np.std(small_list)"
   ]
  },
  {
   "cell_type": "code",
   "execution_count": 143,
   "metadata": {},
   "outputs": [
    {
     "name": "stdout",
     "output_type": "stream",
     "text": [
      "10.8 ms ± 3.86 ms per loop (mean ± std. dev. of 7 runs, 100 loops each)\n",
      "The slowest run took 5.24 times longer than the fastest. This could mean that an intermediate result is being cached.\n",
      "1.14 ms ± 696 μs per loop (mean ± std. dev. of 7 runs, 1,000 loops each)\n",
      "80 μs ± 19.8 μs per loop (mean ± std. dev. of 7 runs, 10,000 loops each)\n"
     ]
    }
   ],
   "source": [
    "# Time execution using loops\n",
    " \n",
    "%timeit std_loops(large_list)\n",
    "%timeit std_loops(medium_list)\n",
    "%timeit std_loops(small_list)"
   ]
  },
  {
   "cell_type": "code",
   "execution_count": 144,
   "metadata": {},
   "outputs": [
    {
     "name": "stdout",
     "output_type": "stream",
     "text": [
      "6.76 ms ± 2.22 ms per loop (mean ± std. dev. of 7 runs, 100 loops each)\n",
      "813 μs ± 141 μs per loop (mean ± std. dev. of 7 runs, 1,000 loops each)\n",
      "85.4 μs ± 25.3 μs per loop (mean ± std. dev. of 7 runs, 10,000 loops each)\n"
     ]
    }
   ],
   "source": [
    "# Time execusion using built in functions\n",
    "\n",
    "%timeit std_builtin(large_list)\n",
    "%timeit std_builtin(medium_list)\n",
    "%timeit std_builtin(small_list)"
   ]
  }
 ],
 "metadata": {
  "kernelspec": {
   "display_name": "base",
   "language": "python",
   "name": "python3"
  },
  "language_info": {
   "codemirror_mode": {
    "name": "ipython",
    "version": 3
   },
   "file_extension": ".py",
   "mimetype": "text/x-python",
   "name": "python",
   "nbconvert_exporter": "python",
   "pygments_lexer": "ipython3",
   "version": "3.12.5"
  }
 },
 "nbformat": 4,
 "nbformat_minor": 2
}
